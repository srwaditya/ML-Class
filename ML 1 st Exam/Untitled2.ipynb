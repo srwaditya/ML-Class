{
 "cells": [
  {
   "cell_type": "code",
   "execution_count": null,
   "id": "603e9b08-44ed-4751-8b7d-98b579487dfa",
   "metadata": {},
   "outputs": [],
   "source": [
    "from pyhive import hive\n",
    "conn = hive.connect('<Hive Server 2>', port=10000)\n",
    "cursor = conn.cursor()\n",
    "cursor.execute('SHOW DATABASES')\n",
    "cursor.fetchall()"
   ]
  },
  {
   "cell_type": "code",
   "execution_count": null,
   "id": "9481155a-53ba-44de-aaab-ebd1250106e1",
   "metadata": {},
   "outputs": [],
   "source": [
    "pip install sasl"
   ]
  },
  {
   "cell_type": "code",
   "execution_count": null,
   "id": "60333388-23bb-4e39-b118-62192fa9a578",
   "metadata": {},
   "outputs": [],
   "source": [
    "sudo apt-get install libsasl2-dev"
   ]
  },
  {
   "cell_type": "code",
   "execution_count": null,
   "id": "97be505b-aa52-47dd-a4ad-c09d1576b642",
   "metadata": {},
   "outputs": [],
   "source": [
    "pip install thrift-sasl"
   ]
  },
  {
   "cell_type": "code",
   "execution_count": null,
   "id": "222fffcf-fcc4-47d3-980c-ccfc604e6d86",
   "metadata": {},
   "outputs": [],
   "source": []
  }
 ],
 "metadata": {
  "kernelspec": {
   "display_name": "Python 3",
   "language": "python",
   "name": "python3"
  },
  "language_info": {
   "codemirror_mode": {
    "name": "ipython",
    "version": 3
   },
   "file_extension": ".py",
   "mimetype": "text/x-python",
   "name": "python",
   "nbconvert_exporter": "python",
   "pygments_lexer": "ipython3",
   "version": "3.8.8"
  }
 },
 "nbformat": 4,
 "nbformat_minor": 5
}
