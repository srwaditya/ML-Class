{
 "cells": [
  {
   "cell_type": "markdown",
   "id": "4b152d0b-776a-4d7c-a067-e8428a205aeb",
   "metadata": {},
   "source": [
    "### Assignment-based Subjective Questions "
   ]
  },
  {
   "cell_type": "markdown",
   "id": "3ec721f6-4dfe-4344-b4e8-703a615ff4e3",
   "metadata": {},
   "source": []
  }
 ],
 "metadata": {
  "kernelspec": {
   "display_name": "Python 3",
   "language": "python",
   "name": "python3"
  },
  "language_info": {
   "codemirror_mode": {
    "name": "ipython",
    "version": 3
   },
   "file_extension": ".py",
   "mimetype": "text/x-python",
   "name": "python",
   "nbconvert_exporter": "python",
   "pygments_lexer": "ipython3",
   "version": "3.8.8"
  }
 },
 "nbformat": 4,
 "nbformat_minor": 5
}
